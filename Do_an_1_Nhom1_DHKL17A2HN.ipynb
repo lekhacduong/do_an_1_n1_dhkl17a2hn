{
  "nbformat": 4,
  "nbformat_minor": 0,
  "metadata": {
    "colab": {
      "provenance": [],
      "collapsed_sections": [
        "q-nne3LMibo-"
      ],
      "toc_visible": true,
      "include_colab_link": true
    },
    "kernelspec": {
      "name": "ir",
      "display_name": "R"
    },
    "language_info": {
      "name": "R"
    }
  },
  "cells": [
    {
      "cell_type": "markdown",
      "metadata": {
        "id": "view-in-github",
        "colab_type": "text"
      },
      "source": [
        "<a href=\"https://colab.research.google.com/github/lekhacduong/do_an_1_n1_dhkl17a2hn/blob/main/Do_an_1_Nhom1_DHKL17A2HN.ipynb\" target=\"_parent\"><img src=\"https://colab.research.google.com/assets/colab-badge.svg\" alt=\"Open In Colab\"/></a>"
      ]
    },
    {
      "cell_type": "markdown",
      "source": [
        "# **ĐỒ ÁN 1 - Nhóm 1 DHKL17A2HN**"
      ],
      "metadata": {
        "id": "LC0h40lkiG3b"
      }
    },
    {
      "cell_type": "markdown",
      "source": [],
      "metadata": {
        "id": "wJ3fxem1jOoh"
      }
    },
    {
      "cell_type": "markdown",
      "source": [
        "## 1. Xử lý dữ liệu"
      ],
      "metadata": {
        "id": "dnij4WLFjSK7"
      }
    },
    {
      "cell_type": "markdown",
      "source": [
        "Gọi thư viện xử lý dữ liệu trong R\n"
      ],
      "metadata": {
        "id": "zGMPfEzsj2Mz"
      }
    },
    {
      "cell_type": "code",
      "source": [
        "install.packages('readr')\n",
        "install.packages('lubridate')\n",
        "install.packages('dplyr')\n",
        "install.packages('tidyr')\n",
        "install.packages('stringr')\n",
        "install.packages('tidyverse')\n",
        "install.packages('pacman')\n",
        "install.packages('skimr')\n",
        "install.packages('janitor')\n",
        "\n"
      ],
      "metadata": {
        "colab": {
          "base_uri": "https://localhost:8080/"
        },
        "collapsed": true,
        "id": "1piGDeZRj1fP",
        "outputId": "2ab47bf8-10e3-4f42-986d-275856bfa861"
      },
      "execution_count": null,
      "outputs": [
        {
          "output_type": "stream",
          "name": "stderr",
          "text": [
            "Installing package into ‘/usr/local/lib/R/site-library’\n",
            "(as ‘lib’ is unspecified)\n",
            "\n",
            "Installing package into ‘/usr/local/lib/R/site-library’\n",
            "(as ‘lib’ is unspecified)\n",
            "\n",
            "Installing package into ‘/usr/local/lib/R/site-library’\n",
            "(as ‘lib’ is unspecified)\n",
            "\n",
            "Installing package into ‘/usr/local/lib/R/site-library’\n",
            "(as ‘lib’ is unspecified)\n",
            "\n",
            "Installing package into ‘/usr/local/lib/R/site-library’\n",
            "(as ‘lib’ is unspecified)\n",
            "\n",
            "Installing package into ‘/usr/local/lib/R/site-library’\n",
            "(as ‘lib’ is unspecified)\n",
            "\n",
            "Installing package into ‘/usr/local/lib/R/site-library’\n",
            "(as ‘lib’ is unspecified)\n",
            "\n",
            "Installing package into ‘/usr/local/lib/R/site-library’\n",
            "(as ‘lib’ is unspecified)\n",
            "\n",
            "Installing package into ‘/usr/local/lib/R/site-library’\n",
            "(as ‘lib’ is unspecified)\n",
            "\n",
            "also installing the dependency ‘snakecase’\n",
            "\n",
            "\n"
          ]
        }
      ]
    },
    {
      "cell_type": "code",
      "metadata": {
        "colab": {
          "base_uri": "https://localhost:8080/"
        },
        "collapsed": true,
        "id": "8e1213e4",
        "outputId": "23484a4f-7ca5-4d83-88fd-84d981572148"
      },
      "source": [
        "library(readr)\n",
        "library(lubridate)\n",
        "library(dplyr)\n",
        "library(tidyr)\n",
        "library(stringr)\n",
        "library(tidyverse)\n",
        "library(pacman)\n",
        "library(skimr)\n",
        "library(janitor)"
      ],
      "execution_count": null,
      "outputs": [
        {
          "output_type": "stream",
          "name": "stderr",
          "text": [
            "\n",
            "Attaching package: ‘lubridate’\n",
            "\n",
            "\n",
            "The following objects are masked from ‘package:base’:\n",
            "\n",
            "    date, intersect, setdiff, union\n",
            "\n",
            "\n",
            "\n",
            "Attaching package: ‘dplyr’\n",
            "\n",
            "\n",
            "The following objects are masked from ‘package:stats’:\n",
            "\n",
            "    filter, lag\n",
            "\n",
            "\n",
            "The following objects are masked from ‘package:base’:\n",
            "\n",
            "    intersect, setdiff, setequal, union\n",
            "\n",
            "\n",
            "── \u001b[1mAttaching core tidyverse packages\u001b[22m ──────────────────────── tidyverse 2.0.0 ──\n",
            "\u001b[32m✔\u001b[39m \u001b[34mforcats\u001b[39m 1.0.1     \u001b[32m✔\u001b[39m \u001b[34mpurrr  \u001b[39m 1.1.0\n",
            "\u001b[32m✔\u001b[39m \u001b[34mggplot2\u001b[39m 4.0.0     \u001b[32m✔\u001b[39m \u001b[34mtibble \u001b[39m 3.3.0\n",
            "── \u001b[1mConflicts\u001b[22m ────────────────────────────────────────── tidyverse_conflicts() ──\n",
            "\u001b[31m✖\u001b[39m \u001b[34mdplyr\u001b[39m::\u001b[32mfilter()\u001b[39m masks \u001b[34mstats\u001b[39m::filter()\n",
            "\u001b[31m✖\u001b[39m \u001b[34mdplyr\u001b[39m::\u001b[32mlag()\u001b[39m    masks \u001b[34mstats\u001b[39m::lag()\n",
            "\u001b[36mℹ\u001b[39m Use the conflicted package (\u001b[3m\u001b[34m<http://conflicted.r-lib.org/>\u001b[39m\u001b[23m) to force all conflicts to become errors\n",
            "\n",
            "Attaching package: ‘janitor’\n",
            "\n",
            "\n",
            "The following objects are masked from ‘package:stats’:\n",
            "\n",
            "    chisq.test, fisher.test\n",
            "\n",
            "\n"
          ]
        }
      ]
    },
    {
      "cell_type": "markdown",
      "source": [
        "Mở file dữ liệu"
      ],
      "metadata": {
        "id": "l7bdRD3ImnWG"
      }
    },
    {
      "cell_type": "markdown",
      "source": [],
      "metadata": {
        "id": "X3Ohczd6mVco"
      }
    },
    {
      "cell_type": "code",
      "source": [
        "file_url = \"https://github.com/lekhacduong/do_an_1_n1_dhkl17a2hn/raw/refs/heads/main/flights_sample_3m.csv\"\n",
        "data <- read_csv(file_url)\n",
        "names(data)"
      ],
      "metadata": {
        "colab": {
          "base_uri": "https://localhost:8080/",
          "height": 243
        },
        "id": "tyXZMpQYjNm9",
        "outputId": "6ed8144b-676d-4944-849a-6bcb33ab1575"
      },
      "execution_count": null,
      "outputs": [
        {
          "output_type": "stream",
          "name": "stderr",
          "text": [
            "\u001b[1mRows: \u001b[22m\u001b[34m3000000\u001b[39m \u001b[1mColumns: \u001b[22m\u001b[34m32\u001b[39m\n",
            "\u001b[36m──\u001b[39m \u001b[1mColumn specification\u001b[22m \u001b[36m────────────────────────────────────────────────────────\u001b[39m\n",
            "\u001b[1mDelimiter:\u001b[22m \",\"\n",
            "\u001b[31mchr\u001b[39m   (8): AIRLINE, AIRLINE_DOT, AIRLINE_CODE, ORIGIN, ORIGIN_CITY, DEST, DE...\n",
            "\u001b[32mdbl\u001b[39m  (23): DOT_CODE, FL_NUMBER, CRS_DEP_TIME, DEP_TIME, DEP_DELAY, TAXI_OUT,...\n",
            "\u001b[34mdate\u001b[39m  (1): FL_DATE\n",
            "\n",
            "\u001b[36mℹ\u001b[39m Use `spec()` to retrieve the full column specification for this data.\n",
            "\u001b[36mℹ\u001b[39m Specify the column types or set `show_col_types = FALSE` to quiet this message.\n"
          ]
        },
        {
          "output_type": "display_data",
          "data": {
            "text/html": [
              "<style>\n",
              ".list-inline {list-style: none; margin:0; padding: 0}\n",
              ".list-inline>li {display: inline-block}\n",
              ".list-inline>li:not(:last-child)::after {content: \"\\00b7\"; padding: 0 .5ex}\n",
              "</style>\n",
              "<ol class=list-inline><li>'FL_DATE'</li><li>'AIRLINE'</li><li>'AIRLINE_DOT'</li><li>'AIRLINE_CODE'</li><li>'DOT_CODE'</li><li>'FL_NUMBER'</li><li>'ORIGIN'</li><li>'ORIGIN_CITY'</li><li>'DEST'</li><li>'DEST_CITY'</li><li>'CRS_DEP_TIME'</li><li>'DEP_TIME'</li><li>'DEP_DELAY'</li><li>'TAXI_OUT'</li><li>'WHEELS_OFF'</li><li>'WHEELS_ON'</li><li>'TAXI_IN'</li><li>'CRS_ARR_TIME'</li><li>'ARR_TIME'</li><li>'ARR_DELAY'</li><li>'CANCELLED'</li><li>'CANCELLATION_CODE'</li><li>'DIVERTED'</li><li>'CRS_ELAPSED_TIME'</li><li>'ELAPSED_TIME'</li><li>'AIR_TIME'</li><li>'DISTANCE'</li><li>'DELAY_DUE_CARRIER'</li><li>'DELAY_DUE_WEATHER'</li><li>'DELAY_DUE_NAS'</li><li>'DELAY_DUE_SECURITY'</li><li>'DELAY_DUE_LATE_AIRCRAFT'</li></ol>\n"
            ],
            "text/markdown": "1. 'FL_DATE'\n2. 'AIRLINE'\n3. 'AIRLINE_DOT'\n4. 'AIRLINE_CODE'\n5. 'DOT_CODE'\n6. 'FL_NUMBER'\n7. 'ORIGIN'\n8. 'ORIGIN_CITY'\n9. 'DEST'\n10. 'DEST_CITY'\n11. 'CRS_DEP_TIME'\n12. 'DEP_TIME'\n13. 'DEP_DELAY'\n14. 'TAXI_OUT'\n15. 'WHEELS_OFF'\n16. 'WHEELS_ON'\n17. 'TAXI_IN'\n18. 'CRS_ARR_TIME'\n19. 'ARR_TIME'\n20. 'ARR_DELAY'\n21. 'CANCELLED'\n22. 'CANCELLATION_CODE'\n23. 'DIVERTED'\n24. 'CRS_ELAPSED_TIME'\n25. 'ELAPSED_TIME'\n26. 'AIR_TIME'\n27. 'DISTANCE'\n28. 'DELAY_DUE_CARRIER'\n29. 'DELAY_DUE_WEATHER'\n30. 'DELAY_DUE_NAS'\n31. 'DELAY_DUE_SECURITY'\n32. 'DELAY_DUE_LATE_AIRCRAFT'\n\n\n",
            "text/latex": "\\begin{enumerate*}\n\\item 'FL\\_DATE'\n\\item 'AIRLINE'\n\\item 'AIRLINE\\_DOT'\n\\item 'AIRLINE\\_CODE'\n\\item 'DOT\\_CODE'\n\\item 'FL\\_NUMBER'\n\\item 'ORIGIN'\n\\item 'ORIGIN\\_CITY'\n\\item 'DEST'\n\\item 'DEST\\_CITY'\n\\item 'CRS\\_DEP\\_TIME'\n\\item 'DEP\\_TIME'\n\\item 'DEP\\_DELAY'\n\\item 'TAXI\\_OUT'\n\\item 'WHEELS\\_OFF'\n\\item 'WHEELS\\_ON'\n\\item 'TAXI\\_IN'\n\\item 'CRS\\_ARR\\_TIME'\n\\item 'ARR\\_TIME'\n\\item 'ARR\\_DELAY'\n\\item 'CANCELLED'\n\\item 'CANCELLATION\\_CODE'\n\\item 'DIVERTED'\n\\item 'CRS\\_ELAPSED\\_TIME'\n\\item 'ELAPSED\\_TIME'\n\\item 'AIR\\_TIME'\n\\item 'DISTANCE'\n\\item 'DELAY\\_DUE\\_CARRIER'\n\\item 'DELAY\\_DUE\\_WEATHER'\n\\item 'DELAY\\_DUE\\_NAS'\n\\item 'DELAY\\_DUE\\_SECURITY'\n\\item 'DELAY\\_DUE\\_LATE\\_AIRCRAFT'\n\\end{enumerate*}\n",
            "text/plain": [
              " [1] \"FL_DATE\"                 \"AIRLINE\"                \n",
              " [3] \"AIRLINE_DOT\"             \"AIRLINE_CODE\"           \n",
              " [5] \"DOT_CODE\"                \"FL_NUMBER\"              \n",
              " [7] \"ORIGIN\"                  \"ORIGIN_CITY\"            \n",
              " [9] \"DEST\"                    \"DEST_CITY\"              \n",
              "[11] \"CRS_DEP_TIME\"            \"DEP_TIME\"               \n",
              "[13] \"DEP_DELAY\"               \"TAXI_OUT\"               \n",
              "[15] \"WHEELS_OFF\"              \"WHEELS_ON\"              \n",
              "[17] \"TAXI_IN\"                 \"CRS_ARR_TIME\"           \n",
              "[19] \"ARR_TIME\"                \"ARR_DELAY\"              \n",
              "[21] \"CANCELLED\"               \"CANCELLATION_CODE\"      \n",
              "[23] \"DIVERTED\"                \"CRS_ELAPSED_TIME\"       \n",
              "[25] \"ELAPSED_TIME\"            \"AIR_TIME\"               \n",
              "[27] \"DISTANCE\"                \"DELAY_DUE_CARRIER\"      \n",
              "[29] \"DELAY_DUE_WEATHER\"       \"DELAY_DUE_NAS\"          \n",
              "[31] \"DELAY_DUE_SECURITY\"      \"DELAY_DUE_LATE_AIRCRAFT\""
            ]
          },
          "metadata": {}
        }
      ]
    },
    {
      "cell_type": "code",
      "source": [
        "print(head(data))"
      ],
      "metadata": {
        "colab": {
          "base_uri": "https://localhost:8080/"
        },
        "collapsed": true,
        "id": "sanHFaflh35A",
        "outputId": "8ecdcd16-2da9-4526-be46-88e3bc0e924d"
      },
      "execution_count": null,
      "outputs": [
        {
          "output_type": "stream",
          "name": "stdout",
          "text": [
            "\u001b[90m# A tibble: 6 × 32\u001b[39m\n",
            "  FL_DATE    AIRLINE          AIRLINE_DOT AIRLINE_CODE DOT_CODE FL_NUMBER ORIGIN\n",
            "  \u001b[3m\u001b[90m<date>\u001b[39m\u001b[23m     \u001b[3m\u001b[90m<chr>\u001b[39m\u001b[23m            \u001b[3m\u001b[90m<chr>\u001b[39m\u001b[23m       \u001b[3m\u001b[90m<chr>\u001b[39m\u001b[23m           \u001b[3m\u001b[90m<dbl>\u001b[39m\u001b[23m     \u001b[3m\u001b[90m<dbl>\u001b[39m\u001b[23m \u001b[3m\u001b[90m<chr>\u001b[39m\u001b[23m \n",
            "\u001b[90m1\u001b[39m 2019-01-09 United Air Line… United Air… UA              \u001b[4m1\u001b[24m\u001b[4m9\u001b[24m977      \u001b[4m1\u001b[24m562 FLL   \n",
            "\u001b[90m2\u001b[39m 2022-11-19 Delta Air Lines… Delta Air … DL              \u001b[4m1\u001b[24m\u001b[4m9\u001b[24m790      \u001b[4m1\u001b[24m149 MSP   \n",
            "\u001b[90m3\u001b[39m 2022-07-22 United Air Line… United Air… UA              \u001b[4m1\u001b[24m\u001b[4m9\u001b[24m977       459 DEN   \n",
            "\u001b[90m4\u001b[39m 2023-03-06 Delta Air Lines… Delta Air … DL              \u001b[4m1\u001b[24m\u001b[4m9\u001b[24m790      \u001b[4m2\u001b[24m295 MSP   \n",
            "\u001b[90m5\u001b[39m 2020-02-23 Spirit Air Lines Spirit Air… NK              \u001b[4m2\u001b[24m\u001b[4m0\u001b[24m416       407 MCO   \n",
            "\u001b[90m6\u001b[39m 2019-07-31 Southwest Airli… Southwest … WN              \u001b[4m1\u001b[24m\u001b[4m9\u001b[24m393       665 DAL   \n",
            "\u001b[90m# ℹ 25 more variables: ORIGIN_CITY <chr>, DEST <chr>, DEST_CITY <chr>,\u001b[39m\n",
            "\u001b[90m#   CRS_DEP_TIME <dbl>, DEP_TIME <dbl>, DEP_DELAY <dbl>, TAXI_OUT <dbl>,\u001b[39m\n",
            "\u001b[90m#   WHEELS_OFF <dbl>, WHEELS_ON <dbl>, TAXI_IN <dbl>, CRS_ARR_TIME <dbl>,\u001b[39m\n",
            "\u001b[90m#   ARR_TIME <dbl>, ARR_DELAY <dbl>, CANCELLED <dbl>, CANCELLATION_CODE <chr>,\u001b[39m\n",
            "\u001b[90m#   DIVERTED <dbl>, CRS_ELAPSED_TIME <dbl>, ELAPSED_TIME <dbl>, AIR_TIME <dbl>,\u001b[39m\n",
            "\u001b[90m#   DISTANCE <dbl>, DELAY_DUE_CARRIER <dbl>, DELAY_DUE_WEATHER <dbl>,\u001b[39m\n",
            "\u001b[90m#   DELAY_DUE_NAS <dbl>, DELAY_DUE_SECURITY <dbl>, …\u001b[39m\n"
          ]
        }
      ]
    },
    {
      "cell_type": "markdown",
      "source": [
        "## 2. Làm sạch và tiền xử lý dữ liệu"
      ],
      "metadata": {
        "id": "2BUH0JePhClw"
      }
    },
    {
      "cell_type": "markdown",
      "source": [
        "### 2.1 Tính toán các đại lượng thống kê cơ bản"
      ],
      "metadata": {
        "id": "GZpeD5MLi0zf"
      }
    },
    {
      "cell_type": "code",
      "source": [],
      "metadata": {
        "id": "avg3Xpv4jR0q"
      },
      "execution_count": null,
      "outputs": []
    },
    {
      "cell_type": "markdown",
      "source": [
        "### 2.2 Tính tổng số chuyến bay, tỉ lệ bay đúng giờ - trễ - hủy"
      ],
      "metadata": {
        "id": "oIqqX2H9jSUa"
      }
    },
    {
      "cell_type": "code",
      "source": [],
      "metadata": {
        "id": "MKIUe4Eeja5s"
      },
      "execution_count": null,
      "outputs": []
    },
    {
      "cell_type": "markdown",
      "source": [
        "### 2.3 Bảng so sánh trung bình thời gian trễ và tỉ lệ hủy chuyến"
      ],
      "metadata": {
        "id": "qC_Z8y7YjbNJ"
      }
    },
    {
      "cell_type": "code",
      "source": [],
      "metadata": {
        "id": "RBU1k96XjmHQ"
      },
      "execution_count": null,
      "outputs": []
    },
    {
      "cell_type": "markdown",
      "source": [
        "### 2.4 Phân tích phân phối dữ liệu ( phân phối chuẩn, lệch trái, lệch phải, đa đỉnh )"
      ],
      "metadata": {
        "id": "_3hi00b-jmke"
      }
    },
    {
      "cell_type": "markdown",
      "source": [
        "## 3. Phân tích liên hệ giữa các biến"
      ],
      "metadata": {
        "id": "iS-JQTMdhqdw"
      }
    },
    {
      "cell_type": "markdown",
      "source": [
        "## 4. Trực quan hóa dữ liệu"
      ],
      "metadata": {
        "id": "MEpIKGuuhxB5"
      }
    },
    {
      "cell_type": "markdown",
      "source": [
        "## 5. Chủ đề nâng cao"
      ],
      "metadata": {
        "id": "q-nne3LMibo-"
      }
    },
    {
      "cell_type": "markdown",
      "source": [
        "##\n"
      ],
      "metadata": {
        "id": "44Ez3aGLrLq3"
      }
    }
  ]
}